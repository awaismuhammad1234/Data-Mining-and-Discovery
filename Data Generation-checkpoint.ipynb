{
 "cells": [
  {
   "cell_type": "markdown",
   "id": "c6a21fa4",
   "metadata": {},
   "source": [
    "# Employees Table"
   ]
  },
  {
   "cell_type": "code",
   "execution_count": 6,
   "id": "c0590554",
   "metadata": {},
   "outputs": [
    {
     "name": "stdout",
     "output_type": "stream",
     "text": [
      "Data generation for Employees table is complete and saved to employees.csv.\n"
     ]
    }
   ],
   "source": [
    "import pandas as pd\n",
    "from faker import Faker\n",
    "import random\n",
    "\n",
    "# Initialize Faker\n",
    "fake = Faker()\n",
    "\n",
    "# Number of records\n",
    "num_records = 700\n",
    "\n",
    "# Departments and Positions for references\n",
    "departments = ['HR', 'IT', 'Finance', 'Sales', 'Marketing', 'Logistics', 'R&D']\n",
    "positions_titles = ['Junior', 'Senior', 'Manager', 'Team Lead', 'Director']\n",
    "\n",
    "# Employees Data\n",
    "employees_data = [{\n",
    "    'Name': fake.first_name()[:30],  # Limit to 30 characters\n",
    "    'DepartmentID': random.randint(0, len(departments) - 1),\n",
    "    'PositionID': random.randint(0, len(positions_titles) - 1),\n",
    "    'Birthdate': fake.date_of_birth(minimum_age=18, maximum_age=70).isoformat(),\n",
    "    'HireDate': fake.date_between(start_date=\"-10y\", end_date=\"today\").isoformat(),\n",
    "    'Email': fake.email()\n",
    "} for _ in range(num_records)]\n",
    "employees_df = pd.DataFrame(employees_data)\n",
    "employees_df.index.name = 'EmployeeID'\n",
    "employees_df.reset_index(inplace=True)\n",
    "employees_df.to_csv('employees.csv', index=False)\n",
    "\n",
    "print(\"Data generation for Employees table is complete and saved to employees.csv.\")\n"
   ]
  },
  {
   "cell_type": "markdown",
   "id": "15f82371",
   "metadata": {},
   "source": [
    "# Departments Table"
   ]
  },
  {
   "cell_type": "code",
   "execution_count": null,
   "id": "54e742dc",
   "metadata": {},
   "outputs": [],
   "source": [
    "# Departments Data\n",
    "departments = ['HR', 'IT', 'Finance', 'Sales', 'Marketing', 'Logistics', 'R&D']\n",
    "departments_df = pd.DataFrame(departments, columns=['DepartmentName'])\n",
    "departments_df.index.name = 'DepartmentID'\n",
    "departments_df.reset_index(inplace=True)\n",
    "departments_df.to_csv('departments.csv', index=False)\n",
    "\n",
    "print(\"Data generation for Departments table is complete and saved to departments.csv.\")\n"
   ]
  },
  {
   "cell_type": "markdown",
   "id": "f75efb7a",
   "metadata": {},
   "source": [
    "# Positions Table"
   ]
  },
  {
   "cell_type": "code",
   "execution_count": 7,
   "id": "175cb428",
   "metadata": {},
   "outputs": [
    {
     "name": "stdout",
     "output_type": "stream",
     "text": [
      "Data generation for Positions table is complete and saved to positions.csv.\n"
     ]
    }
   ],
   "source": [
    "# Positions Data\n",
    "positions_titles = ['Junior', 'Senior', 'Manager', 'Team Lead', 'Director']\n",
    "job_grades = ['Entry', 'Mid', 'Senior', 'Lead']\n",
    "\n",
    "positions_df = pd.DataFrame([(title, random.choice(job_grades)) for title in positions_titles],\n",
    "                            columns=['PositionTitle', 'JobGrade'])\n",
    "\n",
    "positions_df.index.name = 'PositionID'\n",
    "positions_df.reset_index(inplace=True)\n",
    "positions_df.to_csv('positions.csv', index=False)\n",
    "\n",
    "print(\"Data generation for Positions table is complete and saved to positions.csv.\")"
   ]
  },
  {
   "cell_type": "markdown",
   "id": "846cd893",
   "metadata": {},
   "source": [
    "# Saleries Table"
   ]
  },
  {
   "cell_type": "code",
   "execution_count": 8,
   "id": "c11babf4",
   "metadata": {},
   "outputs": [
    {
     "name": "stdout",
     "output_type": "stream",
     "text": [
      "Data generation for Salaries table is complete and saved to salaries.csv.\n"
     ]
    }
   ],
   "source": [
    "fake = Faker()\n",
    "\n",
    "# Number of records\n",
    "num_records = 700\n",
    "\n",
    "# Salaries Data\n",
    "salaries_data = [{\n",
    "    'EmployeeID': idx,\n",
    "    'AnnualSalary': random.randint(40000, 120000),\n",
    "    'SalaryStartDate': fake.date_between(start_date=\"-5y\", end_date=\"today\").isoformat(),\n",
    "    'SalaryEndDate': fake.date_between(start_date=\"today\", end_date=\"+5y\").isoformat()\n",
    "} for idx in range(num_records)]\n",
    "\n",
    "salaries_df = pd.DataFrame(salaries_data)\n",
    "salaries_df.index.name = 'SalaryID'\n",
    "salaries_df.reset_index(inplace=True)\n",
    "salaries_df.to_csv('salaries.csv', index=False)\n",
    "\n",
    "print(\"Data generation for Salaries table is complete and saved to salaries.csv.\")"
   ]
  },
  {
   "cell_type": "markdown",
   "id": "dc9ef7c2",
   "metadata": {},
   "source": [
    "# Attendance Table"
   ]
  },
  {
   "cell_type": "code",
   "execution_count": 9,
   "id": "5dc4044a",
   "metadata": {},
   "outputs": [
    {
     "name": "stdout",
     "output_type": "stream",
     "text": [
      "Data generation for Attendance table is complete and saved to attendance.csv.\n"
     ]
    }
   ],
   "source": [
    "fake = Faker()\n",
    "\n",
    "# Number of records\n",
    "num_records = 700\n",
    "\n",
    "# Attendance Data\n",
    "attendance_data = [{\n",
    "    'EmployeeID': random.randint(0, num_records - 1),\n",
    "    'CheckIn': fake.date_time_this_month(before_now=True, after_now=False).isoformat(),\n",
    "    'CheckOut': fake.date_time_this_month(before_now=True, after_now=False).isoformat()\n",
    "} for _ in range(num_records)]\n",
    "\n",
    "attendance_df = pd.DataFrame(attendance_data)\n",
    "attendance_df.index.name = 'AttendanceID'\n",
    "attendance_df.reset_index(inplace=True)\n",
    "attendance_df.to_csv('attendance.csv', index=False)\n",
    "\n",
    "print(\"Data generation for Attendance table is complete and saved to attendance.csv.\")"
   ]
  },
  {
   "cell_type": "code",
   "execution_count": null,
   "id": "da3d1a09",
   "metadata": {},
   "outputs": [],
   "source": []
  }
 ],
 "metadata": {
  "kernelspec": {
   "display_name": "Python 3 (ipykernel)",
   "language": "python",
   "name": "python3"
  },
  "language_info": {
   "codemirror_mode": {
    "name": "ipython",
    "version": 3
   },
   "file_extension": ".py",
   "mimetype": "text/x-python",
   "name": "python",
   "nbconvert_exporter": "python",
   "pygments_lexer": "ipython3",
   "version": "3.9.13"
  }
 },
 "nbformat": 4,
 "nbformat_minor": 5
}
